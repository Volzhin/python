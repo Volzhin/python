{
 "cells": [
  {
   "cell_type": "markdown",
   "metadata": {},
   "source": [
    "**Задание 1**. Даны 2 строки: *long_phrase* и *short_phrase*. \n",
    "Напишите код, который проверяет действительно ли длинная фраза *long_phrase* длиннее короткой *short_phrase*. И выводит *True* или *False* в зависимости от результата сравнения."
   ]
  },
  {
   "cell_type": "code",
   "execution_count": 13,
   "metadata": {},
   "outputs": [],
   "source": [
    "long_phrase = 'Насколько проще было бы писать программы, если бы не заказчики'\n",
    "short_phrase = '640Кб должно хватить для любых задач. Билл Гейтс (по легенде)'"
   ]
  },
  {
   "cell_type": "code",
   "execution_count": 14,
   "metadata": {},
   "outputs": [
    {
     "name": "stdout",
     "output_type": "stream",
     "text": [
      "True\n"
     ]
    }
   ],
   "source": [
    "long_phrase = len(long_phrase)\n",
    "short_phrase = len(short_phrase)\n",
    "\n",
    "print(long_phrase > short_phrase)"
   ]
  },
  {
   "cell_type": "markdown",
   "metadata": {},
   "source": [
    "**Задание 2**. Дано значение объема файла в байтах (*в мегабайте 2^20 байт*). Напишите перевод этого значения в мегабайты в формате: \"*Объем файла равен 213.68Mb*\"."
   ]
  },
  {
   "cell_type": "code",
   "execution_count": 11,
   "metadata": {},
   "outputs": [
    {
     "name": "stdout",
     "output_type": "stream",
     "text": [
      "Введите число в байтах4000000\n",
      "3.814697265625\n"
     ]
    }
   ],
   "source": [
    "a = int(input(\"Введите число в байтах\"))\n",
    "b = a / (2**20)\n",
    "print(b)"
   ]
  },
  {
   "cell_type": "markdown",
   "metadata": {},
   "source": [
    "**Задание 3**. Разработать приложение для определения знака зодиака по дате рождения. Пример:\n",
    "\n",
    "Введите месяц: март\n",
    "\n",
    "Введите число: 6\n",
    "\n",
    "Вывод:\n",
    "Рыбы"
   ]
  },
  {
   "cell_type": "code",
   "execution_count": 5,
   "metadata": {},
   "outputs": [
    {
     "name": "stdout",
     "output_type": "stream",
     "text": [
      "Введите месяц: март\n"
     ]
    }
   ],
   "source": [
    "month = input(\"Введите месяц: \")"
   ]
  },
  {
   "cell_type": "code",
   "execution_count": 8,
   "metadata": {},
   "outputs": [
    {
     "name": "stdout",
     "output_type": "stream",
     "text": [
      "Введите число: 60\n",
      "Не корректное число\n"
     ]
    }
   ],
   "source": [
    "if month == \"февраль\" or month == \"март\" :\n",
    "    day = input(\"Введите число: \")\n",
    "    if month == \"февраль\" and 28 > int(day) > 20 :\n",
    "        print(\"рыбы\")\n",
    "    elif month == \"март\" and  0 < int(day) < 20 :\n",
    "        print(\"рыбы\")\n",
    "    elif not 0 < int(day) < 31 : \n",
    "        print(\"Не корректное число\")\n",
    "    else : \n",
    "        print (\"Не рыбы\")\n",
    "else:\n",
    "    print('Не корректно ввден месяц, введите месяц в ед. числе, именительном падеже, с прописной буквы, пример - \"март\"')"
   ]
  },
  {
   "cell_type": "markdown",
   "metadata": {},
   "source": [
    "**Задание 4**. Нужно разработать приложение для финансового планирования.\n",
    "Приложение учитывает сколько уходит на ипотеку, \"на жизнь\" и сколько нужно отложить на пенсию.\n",
    "Пользователь вводит:\n",
    "- заработанную плату в месяц.\n",
    "- сколько процентов от ЗП уходит на ипотеку.\n",
    "- сколько процентов от ЗП уходит \"на жизнь\".\n",
    "- сколько раз приходит премия в год.\n",
    "\n",
    "Остальная часть заработанной платы откладывается на пенсию.\n",
    "\n",
    "Также пользователю приходит премия в размере зарплаты, от которой половина уходит на отпуск, а вторая половина откладывается.\n",
    "\n",
    "Программа должна учитывать сколько премий было в год.\n",
    "\n",
    "Нужно вывести сколько денег тратит пользователь на ипотеку и сколько он накопит за год.\n",
    "\n",
    "Пример:\n",
    "\n",
    "Введите заработанную плату в месяц: 100000\n",
    "\n",
    "Введите сколько процентов уходит на ипотеку: 30\n",
    "\n",
    "Введите сколько процентов уходит на жизнь: 50\n",
    "\n",
    "Введите количество премий за год: 2\n",
    "\n",
    "Вывод:\n",
    "На ипотеку было потрачено: 360000 рублей\n",
    "Было накоплено: 340000 рублей"
   ]
  },
  {
   "cell_type": "code",
   "execution_count": 1,
   "metadata": {},
   "outputs": [
    {
     "name": "stdout",
     "output_type": "stream",
     "text": [
      "Введите свою ЗП: 40\n",
      "Cколько процентов от ЗП уходит на ипотеку/кредит: 50\n",
      "Cколько процентов от ЗП уходит \"на жизнь\": -60\n",
      "Cколько раз приходит премия в год: 1\n"
     ]
    }
   ],
   "source": [
    "salary = float(input(\"Введите свою ЗП: \"))\n",
    "credit_money_per = float(input(\"Cколько процентов от ЗП уходит на ипотеку/кредит: \"))\n",
    "live_money_per = float(input('Cколько процентов от ЗП уходит \"на жизнь\": '))\n",
    "prize_count = float(input('Cколько раз приходит премия в год: '))\n"
   ]
  },
  {
   "cell_type": "code",
   "execution_count": 2,
   "metadata": {},
   "outputs": [
    {
     "name": "stdout",
     "output_type": "stream",
     "text": [
      "На ипотеку было потрачено: 240 рублей\n",
      "Было накоплено: 548 рублей\n"
     ]
    }
   ],
   "source": [
    "salary_year = salary * 12\n",
    "credit_money = salary_year * (credit_money_per / 100)\n",
    "live_money = salary_year * (live_money_per / 100)\n",
    "\n",
    "prize_year = salary * prize_count\n",
    "penny_holiday = prize_year / 2\n",
    "\n",
    "panny_all = salary_year + prize_year - penny_holiday - live_money - credit_money\n",
    "\n",
    "\n",
    "print(\"На ипотеку было потрачено: \" + str(round(credit_money)) + \" рублей\\nБыло накоплено: \" + str(round(panny_all)) + \" рублей\")\n",
    "\n"
   ]
  }
 ],
 "metadata": {
  "kernelspec": {
   "display_name": "Python 3 (ipykernel)",
   "language": "python",
   "name": "python3"
  },
  "language_info": {
   "codemirror_mode": {
    "name": "ipython",
    "version": 3
   },
   "file_extension": ".py",
   "mimetype": "text/x-python",
   "name": "python",
   "nbconvert_exporter": "python",
   "pygments_lexer": "ipython3",
   "version": "3.9.7"
  }
 },
 "nbformat": 4,
 "nbformat_minor": 2
}
